{
 "cells": [
  {
   "attachments": {},
   "cell_type": "markdown",
   "id": "806f7653",
   "metadata": {},
   "source": [
    "## import the dependencies"
   ]
  },
  {
   "cell_type": "code",
   "execution_count": 1,
   "id": "0c612102",
   "metadata": {
    "id": "d12982e5"
   },
   "outputs": [],
   "source": [
    "import tensorflow as tf\n",
    "import numpy as np\n",
    "import matplotlib.pyplot as plt\n",
    "import tifffile\n",
    "import pandas as pd\n",
    "\n",
    "from tensorflow.keras.models import Sequential\n",
    "from tensorflow.keras.layers import Dense,Flatten,Conv2D,MaxPooling2D,BatchNormalization,Dropout\n",
    "from tensorflow.keras.callbacks import ModelCheckpoint, EarlyStopping\n",
    "from sklearn.model_selection import train_test_split"
   ]
  },
  {
   "attachments": {},
   "cell_type": "markdown",
   "id": "65d8ae0b",
   "metadata": {},
   "source": [
    "## The CNN model"
   ]
  },
  {
   "cell_type": "code",
   "execution_count": 2,
   "id": "5943c038",
   "metadata": {},
   "outputs": [],
   "source": [
    "def CNN_model(input_data_shape, output_data_shape):\n",
    "    model = Sequential([\n",
    "        Conv2D(32, (3, 3), activation='relu', input_shape=input_data_shape),\n",
    "        MaxPooling2D((2, 2)),\n",
    "        Conv2D(64, (3, 3), activation='relu'),\n",
    "        MaxPooling2D((2, 2)),\n",
    "        Conv2D(64, (3, 3), activation='relu'),\n",
    "        Flatten(),\n",
    "        # Dense(64, activation='relu'),\n",
    "        Dense(output_data_shape, activation='linear')\n",
    "    ])\n",
    "    return model"
   ]
  },
  {
   "attachments": {},
   "cell_type": "markdown",
   "id": "ed5e738e",
   "metadata": {},
   "source": [
    "## function for processing images"
   ]
  },
  {
   "cell_type": "code",
   "execution_count": null,
   "id": "5d6ea33b",
   "metadata": {},
   "outputs": [],
   "source": [
    "def standardize_images(data):\n",
    "    processed_data = np.zeros_like(data)  \n",
    "    for i in range(data.shape[0]):\n",
    "        image = data[i]    \n",
    "        # Step 1: Threshold - set pixels below 33% of the maximum to 0\n",
    "        threshold_value = 0.33 * image.max()\n",
    "        image = np.where(image < threshold_value,0, image)        \n",
    "        # Step 2: Normalize - scale pixel values to the range [0, 1]\n",
    "        if image.max() > 0:\n",
    "            normalized_image = image / image.max()\n",
    "        else:\n",
    "            normalized_image = image  # If max is 0, keep as is (all zeros)\n",
    "        processed_data[i] = normalized_image\n",
    "    return processed_data\n",
    "\n",
    "def process_images(data):\n",
    "    if len(data.shape)==2:\n",
    "        processed_images = np.expand_dims(data, axis = 0)\n",
    "        standardized_images = standardize_images(processed_images)\n",
    "    elif len(data.shape)==3:\n",
    "        standardized_images = standardize_images(data)\n",
    "    else:\n",
    "        print('incorrect image format')\n",
    "\n",
    "    standardized_images=np.expand_dims(standardized_images, axis=-1)\n",
    "\n",
    "    return standardized_images"
   ]
  },
  {
   "cell_type": "markdown",
   "id": "a954496c",
   "metadata": {
    "id": "aeb579ca"
   },
   "source": [
    "## load the training data"
   ]
  },
  {
   "cell_type": "code",
   "execution_count": 3,
   "id": "589a37e4",
   "metadata": {},
   "outputs": [],
   "source": [
    "data = tifffile.imread('datasets/training_5000.tif')\n",
    "target = np.load('datasets/training_5000.npy')\n"
   ]
  },
  {
   "attachments": {},
   "cell_type": "markdown",
   "id": "2bfda526",
   "metadata": {},
   "source": [
    "## process training images "
   ]
  },
  {
   "cell_type": "code",
   "execution_count": 4,
   "id": "5dcfc56a",
   "metadata": {},
   "outputs": [],
   "source": [
    "processed_data = process_images(data)\n",
    "processed_data.shape"
   ]
  },
  {
   "attachments": {},
   "cell_type": "markdown",
   "id": "241e1812",
   "metadata": {},
   "source": [
    "## determine the input and output data shape"
   ]
  },
  {
   "cell_type": "code",
   "execution_count": 8,
   "id": "a4b7d73f",
   "metadata": {},
   "outputs": [],
   "source": [
    "input_data_shape=processed_data.shape[1:]\n",
    "output_data_shape=target.shape[1]"
   ]
  },
  {
   "attachments": {},
   "cell_type": "markdown",
   "id": "9045c6ab",
   "metadata": {},
   "source": [
    "## split the input data into training and testing sets"
   ]
  },
  {
   "cell_type": "code",
   "execution_count": 10,
   "id": "8461c6a3",
   "metadata": {
    "id": "eb219c40"
   },
   "outputs": [],
   "source": [
    "x_train, x_test, y_train, y_test=train_test_split(processed_data,target,test_size=0.1)\n",
    "del processed_data, data\n",
    "del target"
   ]
  },
  {
   "attachments": {},
   "cell_type": "markdown",
   "id": "07b292f5",
   "metadata": {},
   "source": [
    "## to make the model"
   ]
  },
  {
   "cell_type": "code",
   "execution_count": 12,
   "id": "d935e2d8",
   "metadata": {
    "id": "bedc0991"
   },
   "outputs": [
    {
     "name": "stdout",
     "output_type": "stream",
     "text": [
      "Model: \"sequential\"\n",
      "_________________________________________________________________\n",
      " Layer (type)                Output Shape              Param #   \n",
      "=================================================================\n",
      " conv2d (Conv2D)             (None, 178, 178, 32)      320       \n",
      "                                                                 \n",
      " max_pooling2d (MaxPooling2D  (None, 89, 89, 32)       0         \n",
      " )                                                               \n",
      "                                                                 \n",
      " conv2d_1 (Conv2D)           (None, 87, 87, 64)        18496     \n",
      "                                                                 \n",
      " max_pooling2d_1 (MaxPooling  (None, 43, 43, 64)       0         \n",
      " 2D)                                                             \n",
      "                                                                 \n",
      " conv2d_2 (Conv2D)           (None, 41, 41, 64)        36928     \n",
      "                                                                 \n",
      " flatten (Flatten)           (None, 107584)            0         \n",
      "                                                                 \n",
      " dense (Dense)               (None, 12)                1291020   \n",
      "                                                                 \n",
      "=================================================================\n",
      "Total params: 1,346,764\n",
      "Trainable params: 1,346,764\n",
      "Non-trainable params: 0\n",
      "_________________________________________________________________\n"
     ]
    }
   ],
   "source": [
    "model = CNN_model(input_data_shape, output_data_shape)\n",
    "model.summary()"
   ]
  },
  {
   "attachments": {},
   "cell_type": "markdown",
   "id": "a268a442",
   "metadata": {},
   "source": [
    "# to train the model"
   ]
  },
  {
   "cell_type": "code",
   "execution_count": 13,
   "id": "ce272b6c",
   "metadata": {
    "id": "WYcwCL2DuBZF"
   },
   "outputs": [],
   "source": [
    "model.compile(optimizer='adam', loss='mse',metrics=['acc'])\n",
    "\n",
    "# checkpoint=ModelCheckpoint(filepath='CNN gaws v3 checkpoints/checkpoint',save_best_only=True,\n",
    "#                             save_weights_only=True, monitor='val_acc',verbose=0)\n",
    "# earlystopping=EarlyStopping(monitor='val_acc',patience=3)"
   ]
  },
  {
   "cell_type": "code",
   "execution_count": 14,
   "id": "7ec3d497",
   "metadata": {
    "colab": {
     "base_uri": "https://localhost:8080/"
    },
    "id": "9ExH-8g_uH-U",
    "outputId": "b2a31bc8-47f3-4541-8195-2325ab8a1755"
   },
   "outputs": [
    {
     "name": "stdout",
     "output_type": "stream",
     "text": [
      "Epoch 1/20\n",
      "155/155 [==============================] - 62s 389ms/step - loss: 0.0121 - acc: 0.7251 - val_loss: 7.7778e-04 - val_acc: 0.8836\n",
      "Epoch 2/20\n",
      "155/155 [==============================] - 60s 386ms/step - loss: 5.5236e-04 - acc: 0.8826 - val_loss: 4.4561e-04 - val_acc: 0.8745\n",
      "Epoch 3/20\n",
      "155/155 [==============================] - 62s 401ms/step - loss: 3.2904e-04 - acc: 0.8941 - val_loss: 2.8915e-04 - val_acc: 0.8818\n",
      "Epoch 4/20\n",
      "155/155 [==============================] - 59s 383ms/step - loss: 2.4496e-04 - acc: 0.9053 - val_loss: 2.0944e-04 - val_acc: 0.9255\n",
      "Epoch 5/20\n",
      "155/155 [==============================] - 61s 395ms/step - loss: 1.8398e-04 - acc: 0.9158 - val_loss: 2.0335e-04 - val_acc: 0.8909\n",
      "Epoch 6/20\n",
      "155/155 [==============================] - 59s 383ms/step - loss: 1.3882e-04 - acc: 0.9265 - val_loss: 1.6597e-04 - val_acc: 0.9145\n",
      "Epoch 7/20\n",
      "155/155 [==============================] - 59s 383ms/step - loss: 1.3321e-04 - acc: 0.9343 - val_loss: 1.5190e-04 - val_acc: 0.9182\n",
      "Epoch 8/20\n",
      "155/155 [==============================] - 59s 383ms/step - loss: 1.2480e-04 - acc: 0.9329 - val_loss: 1.7342e-04 - val_acc: 0.9127\n",
      "Epoch 9/20\n",
      "155/155 [==============================] - 60s 386ms/step - loss: 1.2825e-04 - acc: 0.9339 - val_loss: 2.3818e-04 - val_acc: 0.9055\n",
      "Epoch 10/20\n",
      "155/155 [==============================] - 59s 381ms/step - loss: 1.2931e-04 - acc: 0.9321 - val_loss: 1.5353e-04 - val_acc: 0.9018\n",
      "Epoch 11/20\n",
      "155/155 [==============================] - 60s 384ms/step - loss: 1.2366e-04 - acc: 0.9323 - val_loss: 1.7751e-04 - val_acc: 0.9255\n",
      "Epoch 12/20\n",
      "155/155 [==============================] - 60s 384ms/step - loss: 1.1458e-04 - acc: 0.9370 - val_loss: 1.5728e-04 - val_acc: 0.9327\n",
      "Epoch 13/20\n",
      "155/155 [==============================] - 59s 383ms/step - loss: 9.0924e-05 - acc: 0.9396 - val_loss: 1.5104e-04 - val_acc: 0.9236\n",
      "Epoch 14/20\n",
      "155/155 [==============================] - 59s 382ms/step - loss: 8.5084e-05 - acc: 0.9446 - val_loss: 1.7314e-04 - val_acc: 0.9145\n",
      "Epoch 15/20\n",
      "155/155 [==============================] - 59s 383ms/step - loss: 8.4056e-05 - acc: 0.9432 - val_loss: 1.6237e-04 - val_acc: 0.9291\n",
      "Epoch 16/20\n",
      "155/155 [==============================] - 59s 383ms/step - loss: 7.7777e-05 - acc: 0.9448 - val_loss: 1.5953e-04 - val_acc: 0.8909\n",
      "Epoch 17/20\n",
      "155/155 [==============================] - 59s 383ms/step - loss: 1.0221e-04 - acc: 0.9382 - val_loss: 1.7420e-04 - val_acc: 0.9182\n",
      "Epoch 18/20\n",
      "155/155 [==============================] - 59s 384ms/step - loss: 8.0575e-05 - acc: 0.9455 - val_loss: 1.6681e-04 - val_acc: 0.9218\n",
      "Epoch 19/20\n",
      "155/155 [==============================] - 59s 383ms/step - loss: 1.1309e-04 - acc: 0.9424 - val_loss: 1.3437e-04 - val_acc: 0.9309\n",
      "Epoch 20/20\n",
      "155/155 [==============================] - 59s 383ms/step - loss: 1.2871e-04 - acc: 0.9386 - val_loss: 1.6385e-04 - val_acc: 0.9127\n"
     ]
    }
   ],
   "source": [
    "history=model.fit(x=x_train,y=y_train, epochs=20, validation_data=(x_test,y_test), verbose=1)\n",
    "                  #callbacks=[checkpoint,earlystopping],verbose=2)"
   ]
  },
  {
   "cell_type": "code",
   "execution_count": 15,
   "id": "84da8710",
   "metadata": {},
   "outputs": [],
   "source": [
    "df = pd.DataFrame(history.history)\n",
    "df.to_csv('datasets/training parameters.csv')"
   ]
  },
  {
   "cell_type": "code",
   "execution_count": 18,
   "id": "528cb944",
   "metadata": {},
   "outputs": [
    {
     "data": {
      "image/png": "[encoded data removed]",
      "text/plain": [
       "<Figure size 720x360 with 2 Axes>"
      ]
     },
     "metadata": {
      "needs_background": "light"
     },
     "output_type": "display_data"
    }
   ],
   "source": [
    "fig,ax=plt.subplots(1,2, figsize=(10, 5))\n",
    "\n",
    "ax[0].plot(np.sqrt(history.history['loss']),label='Training')\n",
    "ax[0].plot(np.sqrt(history.history['val_loss']),label= 'Validation')\n",
    "ax[0].set_title('Loss vs. epochs')\n",
    "ax[0].set(ylabel='Loss',xlabel='Epoch')\n",
    "ax[0].legend( loc='best')\n",
    "\n",
    "\n",
    "ax[1].plot(history.history['acc'],label='Training')\n",
    "ax[1].plot(history.history['val_acc'],label= 'Validation')\n",
    "ax[1].set_title('Accuracy vs. epochs')\n",
    "ax[1].set(ylabel='Accuracy',xlabel='Epoch')\n",
    "ax[1].legend(loc='best')\n",
    "\n",
    "\n",
    "fig.tight_layout()\n",
    "plt.show() "
   ]
  },
  {
   "attachments": {},
   "cell_type": "markdown",
   "id": "6d446269",
   "metadata": {},
   "source": [
    "## save the trained model"
   ]
  },
  {
   "cell_type": "code",
   "execution_count": 17,
   "id": "4facf04a",
   "metadata": {},
   "outputs": [],
   "source": [
    "model.save('saved_model/gaws_model_v1.keras')"
   ]
  },
  {
   "cell_type": "markdown",
   "id": "c337bb35",
   "metadata": {},
   "source": [
    "# Model is already trained and we need only to load the weights"
   ]
  },
  {
   "attachments": {},
   "cell_type": "markdown",
   "id": "9692b34a",
   "metadata": {},
   "source": [
    "## load the pre trained model"
   ]
  },
  {
   "cell_type": "code",
   "execution_count": 12,
   "id": "750b59b1",
   "metadata": {},
   "outputs": [],
   "source": [
    "model = tf.keras.models.load_model('saved_model/gaws_model_v1.keras')"
   ]
  },
  {
   "attachments": {},
   "cell_type": "markdown",
   "id": "fde8a7c0",
   "metadata": {},
   "source": [
    "## load the testing data"
   ]
  },
  {
   "cell_type": "code",
   "execution_count": 13,
   "id": "55f93d23",
   "metadata": {},
   "outputs": [],
   "source": [
    "data_test = tifffile.imread('datasets/test_z4_z15_0.5.tif')\n",
    "target_test = np.load('datasets/test_z4_z15_0.5.npy')"
   ]
  },
  {
   "attachments": {},
   "cell_type": "markdown",
   "id": "05e588ee",
   "metadata": {},
   "source": [
    "## process the testing images"
   ]
  },
  {
   "cell_type": "code",
   "execution_count": null,
   "id": "fe389123",
   "metadata": {},
   "outputs": [],
   "source": [
    "data_test = process_images(data_test)\n",
    "data_test.shape"
   ]
  },
  {
   "attachments": {},
   "cell_type": "markdown",
   "id": "33d83ef1",
   "metadata": {},
   "source": [
    "## use the trained model to predict aberrations"
   ]
  },
  {
   "cell_type": "code",
   "execution_count": 18,
   "id": "3e125d32",
   "metadata": {
    "colab": {
     "base_uri": "https://localhost:8080/"
    },
    "id": "0f6bb45f",
    "outputId": "997d96a2-f6f1-4574-b507-5a81a89052c6"
   },
   "outputs": [
    {
     "name": "stdout",
     "output_type": "stream",
     "text": [
      "1/1 [==============================] - 0s 437ms/step\n"
     ]
    }
   ],
   "source": [
    "y_predict=model.predict(data_test)"
   ]
  },
  {
   "cell_type": "code",
   "execution_count": 43,
   "id": "393fc093",
   "metadata": {},
   "outputs": [
    {
     "data": {
      "text/plain": [
       "<BarContainer object of 12 artists>"
      ]
     },
     "execution_count": 43,
     "metadata": {},
     "output_type": "execute_result"
    },
    {
     "data": {
      "image/png": "[encoded data removed]",
      "text/plain": [
       "<Figure size 432x288 with 1 Axes>"
      ]
     },
     "metadata": {
      "needs_background": "light"
     },
     "output_type": "display_data"
    }
   ],
   "source": [
    "plt.bar(np.arange(len(y_predict[0]))-0.12,y_predict[0], label='estimated' , width = 0.24)\n",
    "plt.bar(np.arange(len(target_test[0]))+0.12,target_test[0],label='applied', width = 0.24)\n",
    "\n"
   ]
  },
  {
   "attachments": {},
   "cell_type": "markdown",
   "id": "0704044f",
   "metadata": {},
   "source": [
    "## determine RMSE"
   ]
  },
  {
   "cell_type": "code",
   "execution_count": null,
   "id": "ce41b5de",
   "metadata": {},
   "outputs": [],
   "source": [
    "def RMSE(target,predict):\n",
    "    MSE = np.square(np.subtract(target,predict)).mean()\n",
    "    RMSE = np.sqrt(MSE)\n",
    "    return RMSE\n",
    "\n"
   ]
  },
  {
   "cell_type": "code",
   "execution_count": null,
   "id": "d226c30b",
   "metadata": {},
   "outputs": [],
   "source": [
    "rmse_values = []\n",
    "for i in range(data_test.shape[0]):\n",
    "  rmse = RMSE(target_test[i], y_predict[i])\n",
    "  rmse_values.append(rmse)\n",
    "\n",
    "plt.figure()\n",
    "plt.plot(rmse_values)\n",
    "plt.ylim(0,1.5)"
   ]
  }
 ],
 "metadata": {
  "accelerator": "GPU",
  "colab": {
   "provenance": []
  },
  "gpuClass": "standard",
  "kernelspec": {
   "display_name": "Python 3",
   "language": "python",
   "name": "python3"
  },
  "language_info": {
   "codemirror_mode": {
    "name": "ipython",
    "version": 3
   },
   "file_extension": ".py",
   "mimetype": "text/x-python",
   "name": "python",
   "nbconvert_exporter": "python",
   "pygments_lexer": "ipython3",
   "version": "3.8.8"
  }
 },
 "nbformat": 4,
 "nbformat_minor": 5
}
